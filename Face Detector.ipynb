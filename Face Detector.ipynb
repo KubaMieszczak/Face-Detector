{
 "cells": [
  {
   "cell_type": "code",
   "execution_count": 37,
   "id": "cb6b9283",
   "metadata": {},
   "outputs": [],
   "source": [
    "from skimage import data\n",
    "from skimage.feature import Cascade\n",
    "import matplotlib.pyplot as plt\n",
    "import cv2\n",
    "import os\n",
    "import numpy as np"
   ]
  },
  {
   "cell_type": "markdown",
   "id": "1da39b7a",
   "metadata": {},
   "source": [
    "Tutaj należy wybrać ustawienia funkcji"
   ]
  },
  {
   "cell_type": "code",
   "execution_count": 38,
   "id": "2a0c008d",
   "metadata": {},
   "outputs": [],
   "source": [
    "#ścieżka filmu\n",
    "path_vid='C:/Users/ADMIN/Desktop/WIN_20221201_12_03_37_Pro.mp4'\n",
    "#ustawienie szerokości kontura\n",
    "szer=12"
   ]
  },
  {
   "cell_type": "markdown",
   "id": "13befff8",
   "metadata": {},
   "source": [
    "Dodawanie potrzebnych folderów i ścieżek "
   ]
  },
  {
   "cell_type": "code",
   "execution_count": 39,
   "id": "3ba5f572",
   "metadata": {},
   "outputs": [],
   "source": [
    "#ścieżka do foldera na pulpicie\n",
    "path0='C:/Users/ADMIN/Desktop/wykrywanie twarzy z filmu'   \n",
    "#ścieżka do foldera z klatkami z obrazu\n",
    "path1='C:/Users/ADMIN/Desktop/wykrywanie twarzy z filmu/zapisane obrazy'   \n",
    "#ścieżka do foldera z wyciętymi twarzami\n",
    "path2='C:/Users/ADMIN/Desktop/wykrywanie twarzy z filmu/twarz'\n",
    "\n",
    "\n",
    "if not os.path.exists(path0):\n",
    "    os.mkdir(path0)\n",
    "\n",
    "if not os.path.exists(path2):\n",
    "    os.mkdir(path2)\n",
    "\n",
    "if not os.path.exists(path1):\n",
    "    os.mkdir(path1)\n",
    "    "
   ]
  },
  {
   "cell_type": "code",
   "execution_count": 40,
   "id": "f04760e8",
   "metadata": {},
   "outputs": [],
   "source": [
    "capture = cv2.VideoCapture(path_vid)\n",
    " \n",
    "frameNr = 0\n",
    " \n",
    "while (True):\n",
    " \n",
    "    success, frame = capture.read()\n",
    "    if success:\n",
    "        cv2.imwrite(path1+'/frame_{}.jpg'.format(frameNr),frame)\n",
    " \n",
    "    else:\n",
    "        break\n",
    " \n",
    "    frameNr = frameNr+1\n",
    " \n",
    "capture.release()\n",
    "a=os.listdir(path1)\n",
    "sort=[]\n",
    "for elem in range(len(a)):\n",
    "    min=np.inf\n",
    "    for elem in a:\n",
    "        elem=int(elem[elem.index('_')+1:elem.index('.')])\n",
    "        if elem<min:\n",
    "            min=elem\n",
    "    elem='frame_'+str(min)+'.jpg'\n",
    "    sort.append(elem)\n",
    "    a.remove(elem)\n"
   ]
  },
  {
   "cell_type": "markdown",
   "id": "15503efb",
   "metadata": {},
   "source": [
    "Funkcja która otrzymuje ścieżkę do filmu, zwraca film zkładający się z wykrytych twarzy lub zastępczej planszy w przypadku nie wykrycia niczego "
   ]
  },
  {
   "cell_type": "code",
   "execution_count": 41,
   "id": "3fd96a4c",
   "metadata": {},
   "outputs": [],
   "source": [
    "none_image='C:/Users/ADMIN/Desktop/804-8044155_no-video-filled-icon.jpg'\n",
    "def video2face(path):\n",
    "    #cap=cv2.VideoCapture('C:/Users/ADMIN/Desktop/70nrrRD6iTddea9iciacLvcn1jBMQIIs.mp4')\n",
    "    capture = cv2.VideoCapture(path)\n",
    "\n",
    "    frameNr = 0\n",
    "\n",
    "    while (True):\n",
    "\n",
    "        success, frame = capture.read()\n",
    "        if success:\n",
    "            cv2.imwrite(path1+'/frame_{}.jpg'.format(frameNr),frame)\n",
    "\n",
    "        else:\n",
    "            break\n",
    "\n",
    "        frameNr = frameNr+1\n",
    "    capture.release()\n",
    "    frameNr = 0\n",
    "    detected_img=[]\n",
    "    \n",
    "    for elem in sort:\n",
    "        trained_file=data.lbp_frontal_face_cascade_filename()\n",
    "        detector=Cascade(trained_file)\n",
    "        image=cv2.imread(path1+'/{}'.format(elem),cv2.COLOR_BGR2RGB)\n",
    "        detected=detector.detect_multi_scale(img=image,scale_factor=1.1,step_ratio=1,min_size=(140,140),max_size=(500,500))\n",
    "        detected_img.append(detected)\n",
    "        if detected!=[]:\n",
    "            cv2.imwrite(path2+'/face_{}.jpg'.format(frameNr),image[detected[0]['r']:detected[0]['r']+detected[0]['width'],detected[0]['c']:detected[0]['c']+detected[0]['height']])\n",
    "        if detected==[]:\n",
    "            cv2.imwrite(path2+'/face_{}.jpg'.format(frameNr),plt.imread(none_image))\n",
    "        frameNr = frameNr+1\n",
    "    return detected_img"
   ]
  },
  {
   "cell_type": "code",
   "execution_count": 42,
   "id": "e020cb1e",
   "metadata": {},
   "outputs": [],
   "source": [
    "detected_img=video2face(path_vid)"
   ]
  },
  {
   "cell_type": "code",
   "execution_count": 43,
   "id": "08a363b3",
   "metadata": {},
   "outputs": [],
   "source": [
    "#tą funkcję trzebe zmodyfikować tak żeby działąła dla foldera 'twarz' i 'zapisane zdjęcia' tak samo,\n",
    "#sposób: niech dalej robi to co robi byłko niech zapisuje wartości w sorciej jako sładowa\n",
    "#'litery do '_'+ posortowana liczba + '.'\n",
    "\n",
    "\n",
    "a=os.listdir(path1)\n",
    "b=os.listdir(path2)\n",
    "def sort_l(lista):\n",
    "    sort=[]\n",
    "\n",
    "    for elem in range(len(lista)):\n",
    "        min=np.inf\n",
    "        for elem in lista:\n",
    "            elem1=int(elem[elem.index('_')+1:elem.index('.')])\n",
    "            if elem1<min:\n",
    "                min=elem1\n",
    "        if elem.index('_')==5:\n",
    "            elem1='frame_'+str(min)+'.jpg'\n",
    "            sort.append(elem1)\n",
    "            lista.remove(elem1)\n",
    "        if elem.index('_')==4:\n",
    "            elem1='face_'+str(min)+'.jpg'\n",
    "            sort.append(elem1)\n",
    "            lista.remove(elem1)\n",
    "    return sort"
   ]
  },
  {
   "cell_type": "code",
   "execution_count": 44,
   "id": "11b77787",
   "metadata": {},
   "outputs": [],
   "source": [
    "img_list=sort_l(a)\n",
    "face_list=sort_l(b)"
   ]
  },
  {
   "cell_type": "code",
   "execution_count": 45,
   "id": "6b48e448",
   "metadata": {},
   "outputs": [],
   "source": [
    "a = cv2.imread(path1+'/frame_13.jpg', cv2.IMREAD_UNCHANGED)\n",
    "b = cv2.imread(path2+'/face_2.jpg', cv2.IMREAD_UNCHANGED)\n",
    "\n",
    "def scale(img1,img2):\n",
    "    scale=img1.shape[0]/img2.shape[0]\n",
    "    width = int(img2.shape[0] * scale )\n",
    "    height = int(img2.shape[0] * scale )\n",
    "    dim = (width, height)\n",
    "  \n",
    "    # resize image\n",
    "    resized = cv2.resize(img2, dim, interpolation = cv2.INTER_AREA)\n",
    "    return resized"
   ]
  },
  {
   "cell_type": "code",
   "execution_count": 46,
   "id": "ec583458",
   "metadata": {},
   "outputs": [],
   "source": [
    "for elem in range(len(img_list)):\n",
    "    img_list[elem]=cv2.imread(path1+'/{}'.format(img_list[elem]))\n",
    "for elem in range(len(face_list)):\n",
    "    face_list[elem]=cv2.imread(path2+'/{}'.format(face_list[elem]))"
   ]
  },
  {
   "cell_type": "code",
   "execution_count": 47,
   "id": "812f86b0",
   "metadata": {},
   "outputs": [],
   "source": [
    "for elem in range(len(img_list)):\n",
    "    detected=detected_img[elem]\n",
    "    if detected!=[]:\n",
    "        img_list[elem][detected[0]['r']:detected[0]['r']+szer,detected[0]['c']:detected[0]['c']+detected[0]['width']]=1\n",
    "        img_list[elem][detected[0]['r']+detected[0]['width']-szer:detected[0]['r']+detected[0]['width'],detected[0]['c']:detected[0]['c']+detected[0]['width']]=1\n",
    "        img_list[elem][detected[0]['r']:detected[0]['r']+detected[0]['width'],detected[0]['c']:detected[0]['c']+szer]=1\n",
    "        img_list[elem][detected[0]['r']:detected[0]['r']+detected[0]['width'],detected[0]['c']+detected[0]['width']-szer:detected[0]['c']+detected[0]['width']]=11\n"
   ]
  },
  {
   "cell_type": "code",
   "execution_count": 48,
   "id": "1a172f0b",
   "metadata": {},
   "outputs": [],
   "source": [
    "#to trzeba pare razy włączyć z jakiegoś powodu, można tu dopisać pętle\n",
    "for elem in range(6):\n",
    "    for elem in range(len(img_list)):\n",
    "        face_list[elem]=scale(img_list[elem],face_list[elem])\n",
    "for elem in range(len(img_list)):\n",
    "    face_list[elem]=np.concatenate((img_list[elem], face_list[elem]), axis=1)\n"
   ]
  },
  {
   "cell_type": "code",
   "execution_count": 49,
   "id": "f992f6f7",
   "metadata": {},
   "outputs": [],
   "source": [
    "for elem in range(len(face_list)):\n",
    "    cv2.imwrite(path2+'/face_{}.jpg'.format(elem),face_list[elem])"
   ]
  },
  {
   "cell_type": "code",
   "execution_count": 50,
   "id": "f432e850",
   "metadata": {},
   "outputs": [],
   "source": [
    "import cv2\n",
    "import os\n",
    "\n",
    "image_folder = path2\n",
    "video_name = path0+'/video_1.avi'\n",
    "\n",
    "images = [img for img in os.listdir(image_folder) if img.endswith(\".jpg\")]\n",
    "frame = cv2.imread(os.path.join(image_folder, images[0]))\n",
    "height, width, layers = frame.shape\n",
    "\n",
    "video = cv2.VideoWriter(video_name, 0, 30, (width,height))\n",
    "images=sort_l(images)\n",
    "for image in images:\n",
    "    video.write(cv2.imread(os.path.join(image_folder, image)))\n",
    "\n",
    "cv2.destroyAllWindows()\n",
    "video.release()"
   ]
  }
 ],
 "metadata": {
  "kernelspec": {
   "display_name": "Python 3 (ipykernel)",
   "language": "python",
   "name": "python3"
  },
  "language_info": {
   "codemirror_mode": {
    "name": "ipython",
    "version": 3
   },
   "file_extension": ".py",
   "mimetype": "text/x-python",
   "name": "python",
   "nbconvert_exporter": "python",
   "pygments_lexer": "ipython3",
   "version": "3.9.13"
  }
 },
 "nbformat": 4,
 "nbformat_minor": 5
}
